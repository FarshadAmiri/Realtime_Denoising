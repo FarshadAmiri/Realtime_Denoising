{
 "cells": [
  {
   "cell_type": "code",
   "execution_count": 2,
   "id": "c01eaf7b",
   "metadata": {},
   "outputs": [],
   "source": [
    "import os; os.chdir(r\"D:\\Git_repos\\Realtime_Denoising\")\n",
    "from dfn2 import denoise"
   ]
  },
  {
   "cell_type": "markdown",
   "id": "b95c474e",
   "metadata": {},
   "source": [
    "File mode"
   ]
  },
  {
   "cell_type": "code",
   "execution_count": 4,
   "id": "b89b1750",
   "metadata": {},
   "outputs": [
    {
     "name": "stdout",
     "output_type": "stream",
     "text": [
      "\u001b[32m2025-10-11 10:38:53\u001b[0m | \u001b[1mINFO    \u001b[0m | \u001b[36mDF\u001b[0m | \u001b[1mEnhancing file: C:\\Users\\User_1\\Desktop\\noisy_auido_files\\noisy_fish.wav\u001b[0m\n",
      "\u001b[32m2025-10-11 10:38:53\u001b[0m | \u001b[1mINFO    \u001b[0m | \u001b[36mDF\u001b[0m | \u001b[1mSaved enhanced audio -> %s\u001b[0m\n",
      "[FILE MODE] Enhanced file: C:\\Users\\User_1\\Desktop\\output_file_mode.wav SR: 44100\n"
     ]
    },
    {
     "name": "stderr",
     "output_type": "stream",
     "text": [
      "D:\\Projects\\venv\\Lib\\site-packages\\df\\io.py:106: UserWarning: \"sinc_interpolation\" resampling method name is being deprecated and replaced by \"sinc_interp_hann\" in the next release. The default behavior remains unchanged.\n",
      "  return ta_resample(audio, orig_sr, new_sr, **params)\n"
     ]
    }
   ],
   "source": [
    "input_wav = r\"C:\\Users\\User_1\\Desktop\\noisy_auido_files\\Comm2.mp3\"\n",
    "input_wav = r\"C:\\Users\\User_1\\Desktop\\noisy_auido_files\\Comm1.mp3\"\n",
    "input_wav = r\"C:\\Users\\User_1\\Desktop\\noisy_auido_files\\Persian_with_bcg_sound.mp3\"\n",
    "input_wav = r\"C:\\Users\\User_1\\Desktop\\noisy_auido_files\\noisy_fish.wav\"\n",
    "output_wav = r\"C:\\\\Users\\\\User_1\\\\Desktop\\\\output_file_mode.wav\"\n",
    "result = denoise(\n",
    "    input_mode=\"file\",\n",
    "    input_path=input_wav,\n",
    "    output_path=output_wav,\n",
    "    max_seconds=None,            # or an int to truncate\n",
    "    fade_in_seconds=0.15,\n",
    "    return_tensor=False,\n",
    ")\n",
    "print(\"[FILE MODE] Enhanced file:\", result[\"enhanced_path\"], \"SR:\", result[\"original_sample_rate\"])  "
   ]
  },
  {
   "cell_type": "markdown",
   "id": "34b34182",
   "metadata": {},
   "source": [
    "Real-time mode"
   ]
  },
  {
   "cell_type": "code",
   "execution_count": 2,
   "id": "72347bb8",
   "metadata": {},
   "outputs": [
    {
     "name": "stdout",
     "output_type": "stream",
     "text": [
      "\u001b[32m2025-10-08 15:43:13\u001b[0m | \u001b[1mINFO    \u001b[0m | \u001b[36mDF\u001b[0m | \u001b[1mRunning on torch 2.3.1+cu121\u001b[0m\n",
      "\u001b[32m2025-10-08 15:43:13\u001b[0m | \u001b[1mINFO    \u001b[0m | \u001b[36mDF\u001b[0m | \u001b[1mRunning on host DESKTOP-ODU1QEF\u001b[0m\n",
      "\u001b[32m2025-10-08 15:43:13\u001b[0m | \u001b[1mINFO    \u001b[0m | \u001b[36mDF\u001b[0m | \u001b[1mLoading model settings of DeepFilterNet2\u001b[0m\n",
      "\u001b[32m2025-10-08 15:43:13\u001b[0m | \u001b[1mINFO    \u001b[0m | \u001b[36mDF\u001b[0m | \u001b[1mUsing DeepFilterNet3 model at C:\\Users\\User_1\\AppData\\Local\\DeepFilterNet\\DeepFilterNet\\Cache\\DeepFilterNet2\u001b[0m\n",
      "\u001b[32m2025-10-08 15:43:13\u001b[0m | \u001b[1mINFO    \u001b[0m | \u001b[36mDF\u001b[0m | \u001b[1mInitializing model `deepfilternet2`\u001b[0m\n",
      "\u001b[32m2025-10-08 15:43:13\u001b[0m | \u001b[1mINFO    \u001b[0m | \u001b[36mDF\u001b[0m | \u001b[1mFound checkpoint C:\\Users\\User_1\\AppData\\Local\\DeepFilterNet\\DeepFilterNet\\Cache\\DeepFilterNet2\\checkpoints\\model_96.ckpt.best with epoch 96\u001b[0m\n",
      "\u001b[32m2025-10-08 15:43:13\u001b[0m | \u001b[1mINFO    \u001b[0m | \u001b[36mDF\u001b[0m | \u001b[1mRunning on device cuda:0\u001b[0m\n",
      "\u001b[32m2025-10-08 15:43:13\u001b[0m | \u001b[1mINFO    \u001b[0m | \u001b[36mDF\u001b[0m | \u001b[1mModel loaded\u001b[0m\n",
      "\u001b[32m2025-10-08 15:43:13\u001b[0m | \u001b[1mINFO    \u001b[0m | \u001b[36mDF\u001b[0m | \u001b[1mDeepFilterNet2 model initialized on device cuda\u001b[0m\n",
      "\u001b[32m2025-10-08 15:43:13\u001b[0m | \u001b[1mINFO    \u001b[0m | \u001b[36mDF\u001b[0m | \u001b[1mStarting streaming denoise: chunk=2.00s overlap=0.50s target_sr=48000\u001b[0m\n",
      "\u001b[32m2025-10-08 15:44:07\u001b[0m | \u001b[1mINFO    \u001b[0m | \u001b[36mDF\u001b[0m | \u001b[1mStreaming interrupted by user; finalizing...\u001b[0m\n",
      "\u001b[32m2025-10-08 15:44:07\u001b[0m | \u001b[1mINFO    \u001b[0m | \u001b[36mDF\u001b[0m | \u001b[1mSaved streaming enhanced audio -> C:\\Users\\User_1\\Desktop\\output_stream_mode.wav\u001b[0m\n",
      "[STREAMING MODE] Enhanced file: C:\\Users\\User_1\\Desktop\\output_stream_mode.wav Duration: 48 s Chunks: 24\n"
     ]
    }
   ],
   "source": [
    "output_stream_wav = r\"C:\\\\Users\\\\User_1\\\\Desktop\\\\output_stream_mode.wav\"\n",
    "\n",
    "result_stream = denoise(\n",
    "    input_mode=\"streaming\",\n",
    "    output_path=output_stream_wav,\n",
    "    streaming_duration=None,  # capture how many seconds (None = until Ctrl+C)\n",
    "    chunk_seconds=2.0,        # larger chunk for better quality (higher latency)\n",
    "    overlap_seconds=0.5,      # smooth crossfade\n",
    "    playback=True,            # set False to disable live playback\n",
    "    fade_in_seconds=0.15,\n",
    "    return_tensor=False,\n",
    ")\n",
    "print(\"[STREAMING MODE] Enhanced file:\", result_stream[\"enhanced_path\"],\n",
    "        \"Duration:\", result_stream[\"stream_duration_seconds\"], \"s\", \"Chunks:\", result_stream[\"chunks\"]) "
   ]
  },
  {
   "cell_type": "code",
   "execution_count": null,
   "id": "9b11fada",
   "metadata": {},
   "outputs": [],
   "source": []
  },
  {
   "cell_type": "code",
   "execution_count": null,
   "id": "e11f4d32",
   "metadata": {},
   "outputs": [],
   "source": []
  },
  {
   "cell_type": "code",
   "execution_count": null,
   "id": "1eb984e8",
   "metadata": {},
   "outputs": [],
   "source": []
  },
  {
   "cell_type": "code",
   "execution_count": null,
   "id": "6fe35f88",
   "metadata": {},
   "outputs": [],
   "source": []
  }
 ],
 "metadata": {
  "kernelspec": {
   "display_name": "Python 3 (ipykernel)",
   "language": "python",
   "name": "python3"
  }
 },
 "nbformat": 4,
 "nbformat_minor": 5
}
